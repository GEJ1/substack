{
  "cells": [
    {
      "cell_type": "markdown",
      "metadata": {
        "id": "view-in-github",
        "colab_type": "text"
      },
      "source": [
        "<a href=\"https://colab.research.google.com/github/GEJ1/substack/blob/main/Metodos_Magicos_Python.ipynb\" target=\"_parent\"><img src=\"https://colab.research.google.com/assets/colab-badge.svg\" alt=\"Open In Colab\"/></a>"
      ]
    },
    {
      "cell_type": "markdown",
      "id": "4ab78b87",
      "metadata": {
        "id": "4ab78b87"
      },
      "source": [
        "# Métodos mágicos de Python"
      ]
    },
    {
      "cell_type": "code",
      "execution_count": null,
      "id": "870a7a7a",
      "metadata": {
        "id": "870a7a7a"
      },
      "outputs": [],
      "source": [
        "# Ejemplo de implementación básica de métodos mágicos: __len__ y __getitem__\n",
        "\n",
        "class CarpinchoGrupo:\n",
        "    def __init__(self, carpinchos):\n",
        "        self._carpinchos = carpinchos\n",
        "\n",
        "    def __len__(self):\n",
        "        contador = 0\n",
        "        for carpincho in self._carpinchos:\n",
        "            contador += 1\n",
        "        return contador\n",
        "\n",
        "    def __getitem__(self, index):\n",
        "        return self._carpinchos[index]\n",
        "\n",
        "# Crear un grupo de carpinchos\n",
        "grupo = CarpinchoGrupo(['Capy1', 'Capy2', 'Capy3'])\n",
        "\n",
        "print(len(grupo))  # 3\n",
        "print(grupo[0])    # 'Capy1'"
      ]
    },
    {
      "cell_type": "code",
      "execution_count": null,
      "id": "136735f3",
      "metadata": {
        "id": "136735f3"
      },
      "outputs": [],
      "source": [
        "# Implementación optimizada del método __len__\n",
        "\n",
        "class CarpinchoGrupo:\n",
        "    def __init__(self, carpinchos):\n",
        "        self._carpinchos = carpinchos\n",
        "\n",
        "    def __len__(self):\n",
        "        return len(self._carpinchos)"
      ]
    },
    {
      "cell_type": "code",
      "execution_count": null,
      "id": "a3ee0f51",
      "metadata": {
        "id": "a3ee0f51"
      },
      "outputs": [],
      "source": [
        "\n",
        "# Ejemplo de implementación de __add__ para concatenar grupos de carpinchos\n",
        "\n",
        "class CarpinchoGrupo:\n",
        "    def __init__(self, carpinchos):\n",
        "        self._carpinchos = carpinchos\n",
        "\n",
        "    def __add__(self, otro_grupo):\n",
        "        # Combina los carpinchos de ambos grupos en una nueva lista\n",
        "        return CarpinchoGrupo(self._carpinchos + otro_grupo._carpinchos)\n",
        "\n",
        "    def __repr__(self):\n",
        "        return f\"CarpinchoGrupo({self._carpinchos})\"\n",
        "\n",
        "# Crear dos grupos de carpinchos\n",
        "grupo1 = CarpinchoGrupo(['Capy1', 'Capy2'])\n",
        "grupo2 = CarpinchoGrupo(['Capy3', 'Capy4'])\n",
        "\n",
        "# Concatenar los dos grupos usando el operador \"+\"\n",
        "grupo_combinado = grupo1 + grupo2\n",
        "\n",
        "# Mostrar el grupo combinado\n",
        "print(grupo_combinado)  # CarpinchoGrupo(['Capy1', 'Capy2', 'Capy3', 'Capy4'])"
      ]
    }
  ],
  "metadata": {
    "colab": {
      "provenance": [],
      "include_colab_link": true
    },
    "language_info": {
      "name": "python"
    },
    "kernelspec": {
      "name": "python3",
      "display_name": "Python 3"
    }
  },
  "nbformat": 4,
  "nbformat_minor": 5
}