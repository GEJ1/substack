{
  "cells": [
    {
      "cell_type": "markdown",
      "metadata": {
        "id": "view-in-github",
        "colab_type": "text"
      },
      "source": [
        "<a href=\"https://colab.research.google.com/github/GEJ1/substack/blob/main/args_kwargs.ipynb\" target=\"_parent\"><img src=\"https://colab.research.google.com/assets/colab-badge.svg\" alt=\"Open In Colab\"/></a>"
      ]
    },
    {
      "cell_type": "markdown",
      "metadata": {
        "id": "sk11caZi-wct"
      },
      "source": [
        "# Ejemplos del blog sobre \\*args y \\*\\*kwargs\n",
        "\n",
        "Este notebook contiene el código del artículo:\n",
        "\n",
        "Autor: [Gustavo Juantorena](https://www.linkedin.com/in/gustavo-juantorena/)"
      ],
      "id": "sk11caZi-wct"
    },
    {
      "cell_type": "markdown",
      "metadata": {
        "id": "IbS62jlG-wcw"
      },
      "source": [
        "## Argumentos Posicionales\n"
      ],
      "id": "IbS62jlG-wcw"
    },
    {
      "cell_type": "code",
      "execution_count": null,
      "metadata": {
        "id": "1XxQYAic-wcx"
      },
      "outputs": [],
      "source": [
        "def juntar_palabras(palabra1, palabra2):\n",
        "    return palabra1 + palabra2\n",
        "\n",
        "\n",
        "print(juntar_palabras(\"perro\", \"loco\"))  # Salida: 'perroloco'"
      ],
      "id": "1XxQYAic-wcx"
    },
    {
      "cell_type": "markdown",
      "metadata": {
        "id": "kw_-Z2ou-wcx"
      },
      "source": [
        "Aumentamos el número de argumentos:\n"
      ],
      "id": "kw_-Z2ou-wcx"
    },
    {
      "cell_type": "code",
      "execution_count": null,
      "metadata": {
        "id": "L55JJjs1-wcy"
      },
      "outputs": [],
      "source": [
        "def juntar_palabras(palabra1, palabra2, palabra3):\n",
        "    return palabra1 + palabra2 + palabra3\n",
        "\n",
        "\n",
        "print(juntar_palabras(\"perro\", \"loco\", \"lindo\"))  # Salida: 'perrolocolindo'"
      ],
      "id": "L55JJjs1-wcy"
    },
    {
      "cell_type": "markdown",
      "metadata": {
        "id": "x9sA1WpN-wcy"
      },
      "source": [
        "Usando \\*args para una cantidad variable de argumentos:\n"
      ],
      "id": "x9sA1WpN-wcy"
    },
    {
      "cell_type": "code",
      "execution_count": null,
      "metadata": {
        "id": "hrhU9Eup-wcy"
      },
      "outputs": [],
      "source": [
        "def juntar_palabras(*args):\n",
        "    salida = \"\"\n",
        "    for palabra in args:\n",
        "        salida += palabra\n",
        "    return salida\n",
        "\n",
        "\n",
        "print(juntar_palabras(\"perro\", \"loco\", \"lindo\", \"grande\"))  # 'perrolocolindogrande'"
      ],
      "id": "hrhU9Eup-wcy"
    },
    {
      "cell_type": "markdown",
      "metadata": {
        "id": "DZMPk3_Q-wcz"
      },
      "source": [
        "## Argumentos con nombre (Keyword Arguments)\n"
      ],
      "id": "DZMPk3_Q-wcz"
    },
    {
      "cell_type": "code",
      "execution_count": null,
      "metadata": {
        "id": "3M8LskRr-wcz"
      },
      "outputs": [],
      "source": [
        "def describir_pokemon(tipo, color, tamaño):\n",
        "    return f\"El Pokemon es {tipo}, {color} y {tamaño}.\"\n",
        "\n",
        "# Noten que el orden de los argumentos en este caso no importa\n",
        "print(describir_pokemon(tamaño=\"pequeño\", color=\"azul\", tipo=\"agua\"))"
      ],
      "id": "3M8LskRr-wcz"
    },
    {
      "cell_type": "markdown",
      "metadata": {
        "id": "tXrzERNa-wcz"
      },
      "source": [
        "Usando \\*\\*kwargs para una cantidad variable de argumentos con nombre:\n"
      ],
      "id": "tXrzERNa-wcz"
    },
    {
      "cell_type": "code",
      "execution_count": null,
      "metadata": {
        "id": "dtpkZ1re-wcz"
      },
      "outputs": [],
      "source": [
        "def describir_atributos(**kwargs):\n",
        "    for clave, valor in kwargs.items():\n",
        "        print(f\"{clave}: {valor}\")\n",
        "\n",
        "\n",
        "describir_atributos(tipo=\"roca\", color=\"negro\", tamaño=\"grande\")"
      ],
      "id": "dtpkZ1re-wcz"
    },
    {
      "cell_type": "markdown",
      "metadata": {
        "id": "13AScNwU-wc0"
      },
      "source": [
        "## La \"gran mentira\" sobre \\*args y \\*\\*kwargs\n",
        "\n",
        "Las convenciones \\*args y \\*\\*kwargs no son palabras reservadas, son solo convenciones:\n"
      ],
      "id": "13AScNwU-wc0"
    },
    {
      "cell_type": "code",
      "execution_count": null,
      "metadata": {
        "id": "p8aRBoyZ-wc0"
      },
      "outputs": [],
      "source": [
        "def ejemplo_posic(*posicionales):\n",
        "    print(\"Posicionales:\", posicionales)\n",
        "\n",
        "\n",
        "ejemplo_posic(1, 2, 3)"
      ],
      "id": "p8aRBoyZ-wc0"
    },
    {
      "cell_type": "code",
      "execution_count": null,
      "metadata": {
        "id": "8G2U6XKC-wc0"
      },
      "outputs": [],
      "source": [
        "def ejemplo_con_nombre(**con_nombre):\n",
        "    print(\"Con nombre:\", con_nombre)\n",
        "\n",
        "\n",
        "ejemplo_con_nombre(atributo1=\"valor1\", atributo2=\"valor2\")"
      ],
      "id": "8G2U6XKC-wc0"
    },
    {
      "cell_type": "markdown",
      "metadata": {
        "id": "l2ZN_YOw-wc0"
      },
      "source": [
        "## Ejemplo completo con parámetros posicionales, keyword-only, \\*args y \\*\\*kwargs\n"
      ],
      "id": "l2ZN_YOw-wc0"
    },
    {
      "cell_type": "code",
      "execution_count": null,
      "metadata": {
        "id": "L1fxzxoY-wc0"
      },
      "outputs": [],
      "source": [
        "def ejemplo_completo(\n",
        "    pos1, pos2, /, pos_o_nombre, *, nombre1, nombre2=\"por defecto\", **kwargs\n",
        "):\n",
        "    print(\"Posicionales obligatorios:\")\n",
        "    print(f\"  pos1: {pos1}\")\n",
        "    print(f\"  pos2: {pos2}\")\n",
        "    print(\"\\nPosicionales o por nombre:\")\n",
        "    print(f\"  pos_o_nombre: {pos_o_nombre}\")\n",
        "    print(\"\\nSolo por nombre:\")\n",
        "    print(f\"  nombre1: {nombre1}\")\n",
        "    print(f\"  nombre2: {nombre2}\")\n",
        "    print(\"\\nArgumentos adicionales (**kwargs):\")\n",
        "    for clave, valor in kwargs.items():\n",
        "        print(f\"  {clave}: {valor}\")\n",
        "\n",
        "\n",
        "ejemplo_completo(1, 2, 3, nombre1=\"valor1\", extra1=\"adicional1\", extra2=\"adicional2\")"
      ],
      "id": "L1fxzxoY-wc0"
    },
    {
      "cell_type": "markdown",
      "metadata": {
        "id": "ceoZ_qvS-wc0"
      },
      "source": [
        "## Desempaquetado de colecciones con \\* y \\*\\*\n"
      ],
      "id": "ceoZ_qvS-wc0"
    },
    {
      "cell_type": "code",
      "execution_count": null,
      "metadata": {
        "id": "3vjK6t3c-wc0"
      },
      "outputs": [],
      "source": [
        "mi_lista = [1, 2, 3]\n",
        "mi_diccionario = {\"a\": 4, \"b\": 5}\n",
        "\n",
        "\n",
        "def ejemplo_colecciones(*args, **kwargs):\n",
        "    print(\"args:\", args)\n",
        "    print(\"kwargs:\", kwargs)\n",
        "    return args, kwargs\n",
        "\n",
        "\n",
        "print(ejemplo_colecciones(*mi_lista, **mi_diccionario))"
      ],
      "id": "3vjK6t3c-wc0"
    },
    {
      "cell_type": "markdown",
      "metadata": {
        "id": "Cd-6hZUF-wc1"
      },
      "source": [
        "## Desempaquetado fuera de funciones\n",
        "\n",
        "Se pueden usar \\* y \\*\\* para desempaquetar listas, sets y diccionarios en otros contextos.\n"
      ],
      "id": "Cd-6hZUF-wc1"
    },
    {
      "cell_type": "code",
      "execution_count": null,
      "metadata": {
        "id": "EBZJv_jo-wc1"
      },
      "outputs": [],
      "source": [
        "# Desempaquetando listas:\n",
        "lista1 = [1, 2, 3]\n",
        "lista2 = [4, 5, 6]\n",
        "combinada = [*lista1, *lista2]\n",
        "print(combinada)"
      ],
      "id": "EBZJv_jo-wc1"
    },
    {
      "cell_type": "code",
      "execution_count": null,
      "metadata": {
        "id": "mTYbv3vd-wc1"
      },
      "outputs": [],
      "source": [
        "# Desempaquetando sets:\n",
        "set1 = {1, 2}\n",
        "set2 = {3, 4}\n",
        "combinado = {*set1, *set2}\n",
        "print(combinado)"
      ],
      "id": "mTYbv3vd-wc1"
    },
    {
      "cell_type": "code",
      "execution_count": null,
      "metadata": {
        "id": "H717qiW8-wc1"
      },
      "outputs": [],
      "source": [
        "# Desempaquetando diccionarios:\n",
        "dict1 = {\"a\": 1, \"b\": 2}\n",
        "dict2 = {\"c\": 3, \"d\": 4}\n",
        "combinado = {**dict1, **dict2}\n",
        "print(combinado)"
      ],
      "id": "H717qiW8-wc1"
    }
  ],
  "metadata": {
    "kernelspec": {
      "display_name": "Python 3",
      "language": "python",
      "name": "python3"
    },
    "language_info": {
      "name": "python"
    },
    "colab": {
      "provenance": [],
      "include_colab_link": true
    }
  },
  "nbformat": 4,
  "nbformat_minor": 5
}