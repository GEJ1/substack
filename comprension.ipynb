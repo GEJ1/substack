{
  "cells": [
    {
      "cell_type": "markdown",
      "metadata": {
        "id": "view-in-github",
        "colab_type": "text"
      },
      "source": [
        "<a href=\"https://colab.research.google.com/github/GEJ1/substack/blob/main/comprension.ipynb\" target=\"_parent\"><img src=\"https://colab.research.google.com/assets/colab-badge.svg\" alt=\"Open In Colab\"/></a>"
      ]
    },
    {
      "cell_type": "markdown",
      "source": [
        "# 🗜️ Listas (y otros tipos) por comprensión en Python\n",
        "https://gustavojuantorena.substack.com/p/listas-y-otros-tipos-por-comprension"
      ],
      "metadata": {
        "id": "9zbA1a1jg0cQ"
      },
      "id": "9zbA1a1jg0cQ"
    },
    {
      "cell_type": "markdown",
      "id": "1e84b98c",
      "metadata": {
        "id": "1e84b98c"
      },
      "source": [
        "# Listas por comprensión en Python"
      ]
    },
    {
      "cell_type": "code",
      "execution_count": null,
      "id": "37cded50",
      "metadata": {
        "id": "37cded50"
      },
      "outputs": [],
      "source": [
        "lista_inicial = [1, 2, 3]\n",
        "lista_nueva = []\n",
        "\n",
        "for elemento in lista_inicial:\n",
        "    lista_nueva.append(elemento + 1)\n",
        "\n",
        "print(lista_nueva)  # Salida: [2,3,4]"
      ]
    },
    {
      "cell_type": "code",
      "execution_count": null,
      "id": "4f534bbc",
      "metadata": {
        "id": "4f534bbc"
      },
      "outputs": [],
      "source": [
        "lista_nueva = [elemento + 1 for elemento in lista_inicial]\n",
        "print(lista_nueva)  # Salida: [2, 3, 4]"
      ]
    },
    {
      "cell_type": "markdown",
      "id": "8aa9d4a4",
      "metadata": {
        "id": "8aa9d4a4"
      },
      "source": [
        "# Filtrado dentro de la comprensión"
      ]
    },
    {
      "cell_type": "code",
      "execution_count": null,
      "id": "e980ba89",
      "metadata": {
        "id": "e980ba89"
      },
      "outputs": [],
      "source": [
        "lista1 = [1, 2, 3, 4, 5, 6, 7, 8]\n",
        "lista2 = [item * 2 for item in lista1 if item > 5]\n",
        "\n",
        "print(lista2)  # Salida: [12, 14, 16]"
      ]
    },
    {
      "cell_type": "code",
      "execution_count": null,
      "id": "5ce4ed8a",
      "metadata": {
        "id": "5ce4ed8a"
      },
      "outputs": [],
      "source": [
        "lista2 = [i * 2 if i > 5 else i * 3 for i in lista1]\n",
        "print(lista2)  # Salida: [3, 6, 9, 12, 15, 12, 14, 16]"
      ]
    },
    {
      "cell_type": "markdown",
      "id": "649e9e95",
      "metadata": {
        "id": "649e9e95"
      },
      "source": [
        "# Listas por comprensión anidadas"
      ]
    },
    {
      "cell_type": "code",
      "execution_count": null,
      "id": "41426f1c",
      "metadata": {
        "id": "41426f1c"
      },
      "outputs": [],
      "source": [
        "lista2 = []\n",
        "for item in lista1:\n",
        "    if item > 5:\n",
        "        for factor in [2, 3]:\n",
        "            lista2.append(item * factor)\n",
        "\n",
        "print(lista2)  # Salida: [12, 18, 14, 21, 16, 24]"
      ]
    },
    {
      "cell_type": "code",
      "execution_count": null,
      "id": "ba563f41",
      "metadata": {
        "id": "ba563f41"
      },
      "outputs": [],
      "source": [
        "lista2 = [item * factor for item in lista1 if item > 5 for factor in [2, 3]]\n",
        "print(lista2)  # Salida: [12, 18, 14, 21, 16, 24]"
      ]
    },
    {
      "cell_type": "markdown",
      "id": "8d487e19",
      "metadata": {
        "id": "8d487e19"
      },
      "source": [
        "# Diccionarios por comprensión"
      ]
    },
    {
      "cell_type": "code",
      "execution_count": null,
      "id": "eaeab5af",
      "metadata": {
        "id": "eaeab5af"
      },
      "outputs": [],
      "source": [
        "palabras = [\"python\", \"carpincho\", \"diccionario\"]\n",
        "diccionario_nuevo = {palabra: palabra.upper() for palabra in palabras}\n",
        "print(diccionario_nuevo)  # Salida: {'python': 'PYTHON', 'carpincho': 'CARPINCHO', 'diccionario': 'DICCIONARIO'}"
      ]
    },
    {
      "cell_type": "code",
      "execution_count": null,
      "id": "a792c66d",
      "metadata": {
        "id": "a792c66d"
      },
      "outputs": [],
      "source": [
        "palabras = [\"python\", \"carpincho\", \"diccionario\"]\n",
        "diccionario_nuevo = {}\n",
        "\n",
        "for palabra in palabras:\n",
        "    diccionario_nuevo[palabra] = palabra.upper()\n",
        "\n",
        "print(diccionario_nuevo)  # Salida: {'python': 'PYTHON', 'carpincho': 'CARPINCHO', 'diccionario': 'DICCIONARIO'}"
      ]
    },
    {
      "cell_type": "markdown",
      "id": "f1e36370",
      "metadata": {
        "id": "f1e36370"
      },
      "source": [
        "# Conjuntos por comprensión"
      ]
    },
    {
      "cell_type": "code",
      "execution_count": null,
      "id": "6e18383b",
      "metadata": {
        "id": "6e18383b"
      },
      "outputs": [],
      "source": [
        "numeros = [1, 2, 3, 4, 5, 3, 2, 1, 4, 5]\n",
        "mi_set = set()\n",
        "\n",
        "for x in numeros:\n",
        "    if x > 2:\n",
        "        mi_set.add(x**2)\n",
        "\n",
        "print(mi_set)  # Salida: {9, 16, 25}"
      ]
    },
    {
      "cell_type": "code",
      "execution_count": null,
      "id": "bc1e0574",
      "metadata": {
        "id": "bc1e0574"
      },
      "outputs": [],
      "source": [
        "mi_set_por_comprension = {x**2 for x in numeros if x > 2}\n",
        "print(mi_set_por_comprension)  # Salida: {9, 16, 25}"
      ]
    },
    {
      "cell_type": "markdown",
      "id": "aaadc3e4",
      "metadata": {
        "id": "aaadc3e4"
      },
      "source": [
        "# Generadores por comprensión"
      ]
    },
    {
      "cell_type": "code",
      "execution_count": null,
      "id": "bc7ae578",
      "metadata": {
        "id": "bc7ae578"
      },
      "outputs": [],
      "source": [
        "generador = (x**2 for x in range(1, 6))\n",
        "\n",
        "for valor in generador:\n",
        "    print(valor)\n",
        "# Salida:\n",
        "# 1\n",
        "# 4\n",
        "# 9\n",
        "# 16\n",
        "# 25"
      ]
    }
  ],
  "metadata": {
    "colab": {
      "provenance": [],
      "include_colab_link": true
    },
    "language_info": {
      "name": "python"
    },
    "kernelspec": {
      "name": "python3",
      "display_name": "Python 3"
    }
  },
  "nbformat": 4,
  "nbformat_minor": 5
}